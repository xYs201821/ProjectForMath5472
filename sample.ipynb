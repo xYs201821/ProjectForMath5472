{
 "cells": [
  {
   "cell_type": "markdown",
   "metadata": {},
   "source": [
    "# Project For MATH 5472\n",
    "\n",
    "This repository maintains an elementary implementation of my course project for MATH5472: [2D experiments for VSD and SDS methods](report.pdf). \n",
    "\n",
    "## Requirement"
   ]
  },
  {
   "cell_type": "code",
   "execution_count": 6,
   "metadata": {},
   "outputs": [
    {
     "name": "stdout",
     "output_type": "stream",
     "text": [
      "Looking in indexes: http://mirrors.aliyun.com/pypi/simple\n",
      "Requirement already satisfied: diffusers==0.31.0 in /root/autodl-tmp/env/lib/python3.12/site-packages (from -r requirements.txt (line 1)) (0.31.0)\n",
      "Requirement already satisfied: imageio==2.36.0 in /root/autodl-tmp/env/lib/python3.12/site-packages (from -r requirements.txt (line 2)) (2.36.0)\n"
     ]
    },
    {
     "name": "stdout",
     "output_type": "stream",
     "text": [
      "Collecting numpy==2.2.0 (from -r requirements.txt (line 3))\n",
      "  Downloading http://mirrors.aliyun.com/pypi/packages/90/24/d0bbb56abdd8934f30384632e3c2ca1ebfeb5d17e150c6e366ba291de36b/numpy-2.2.0-cp312-cp312-manylinux_2_17_x86_64.manylinux2014_x86_64.whl (16.1 MB)\n",
      "\u001b[2K     \u001b[90m━━━━━━━━━━━━━━━━━━━━━━━━━━━━━━━━━━━━━━━━\u001b[0m \u001b[32m16.1/16.1 MB\u001b[0m \u001b[31m1.8 MB/s\u001b[0m eta \u001b[36m0:00:00\u001b[0m00:01\u001b[0m00:01\u001b[0m\n",
      "\u001b[?25hRequirement already satisfied: peft==0.14.0 in /root/autodl-tmp/env/lib/python3.12/site-packages (from -r requirements.txt (line 4)) (0.14.0)\n",
      "Requirement already satisfied: Pillow==11.0.0 in /root/autodl-tmp/env/lib/python3.12/site-packages (from -r requirements.txt (line 5)) (11.0.0)\n",
      "Requirement already satisfied: PyYAML==6.0.2 in /root/autodl-tmp/env/lib/python3.12/site-packages (from -r requirements.txt (line 6)) (6.0.2)\n",
      "Requirement already satisfied: torch==2.5.1 in /root/autodl-tmp/env/lib/python3.12/site-packages (from -r requirements.txt (line 7)) (2.5.1)\n",
      "Requirement already satisfied: tqdm==4.67.0 in /root/autodl-tmp/env/lib/python3.12/site-packages (from -r requirements.txt (line 8)) (4.67.0)\n",
      "Requirement already satisfied: transformers==4.47.0 in /root/autodl-tmp/env/lib/python3.12/site-packages (from -r requirements.txt (line 9)) (4.47.0)\n",
      "Requirement already satisfied: importlib-metadata in /root/autodl-tmp/env/lib/python3.12/site-packages (from diffusers==0.31.0->-r requirements.txt (line 1)) (8.5.0)\n",
      "Requirement already satisfied: filelock in /root/autodl-tmp/env/lib/python3.12/site-packages (from diffusers==0.31.0->-r requirements.txt (line 1)) (3.16.1)\n",
      "Requirement already satisfied: huggingface-hub>=0.23.2 in /root/autodl-tmp/env/lib/python3.12/site-packages (from diffusers==0.31.0->-r requirements.txt (line 1)) (0.26.2)\n",
      "Requirement already satisfied: regex!=2019.12.17 in /root/autodl-tmp/env/lib/python3.12/site-packages (from diffusers==0.31.0->-r requirements.txt (line 1)) (2024.11.6)\n",
      "Requirement already satisfied: requests in /root/autodl-tmp/env/lib/python3.12/site-packages (from diffusers==0.31.0->-r requirements.txt (line 1)) (2.32.3)\n",
      "Requirement already satisfied: safetensors>=0.3.1 in /root/autodl-tmp/env/lib/python3.12/site-packages (from diffusers==0.31.0->-r requirements.txt (line 1)) (0.4.5)\n",
      "Requirement already satisfied: packaging>=20.0 in /root/autodl-tmp/env/lib/python3.12/site-packages (from peft==0.14.0->-r requirements.txt (line 4)) (24.2)\n",
      "Requirement already satisfied: psutil in /root/autodl-tmp/env/lib/python3.12/site-packages (from peft==0.14.0->-r requirements.txt (line 4)) (6.1.0)\n",
      "Requirement already satisfied: accelerate>=0.21.0 in /root/autodl-tmp/env/lib/python3.12/site-packages (from peft==0.14.0->-r requirements.txt (line 4)) (1.1.1)\n",
      "Requirement already satisfied: typing-extensions>=4.8.0 in /root/autodl-tmp/env/lib/python3.12/site-packages (from torch==2.5.1->-r requirements.txt (line 7)) (4.12.2)\n",
      "Requirement already satisfied: networkx in /root/autodl-tmp/env/lib/python3.12/site-packages (from torch==2.5.1->-r requirements.txt (line 7)) (3.4.2)\n",
      "Requirement already satisfied: jinja2 in /root/autodl-tmp/env/lib/python3.12/site-packages (from torch==2.5.1->-r requirements.txt (line 7)) (3.1.4)\n",
      "Requirement already satisfied: fsspec in /root/autodl-tmp/env/lib/python3.12/site-packages (from torch==2.5.1->-r requirements.txt (line 7)) (2024.10.0)\n",
      "Requirement already satisfied: nvidia-cuda-nvrtc-cu12==12.4.127 in /root/autodl-tmp/env/lib/python3.12/site-packages (from torch==2.5.1->-r requirements.txt (line 7)) (12.4.127)\n",
      "Requirement already satisfied: nvidia-cuda-runtime-cu12==12.4.127 in /root/autodl-tmp/env/lib/python3.12/site-packages (from torch==2.5.1->-r requirements.txt (line 7)) (12.4.127)\n",
      "Requirement already satisfied: nvidia-cuda-cupti-cu12==12.4.127 in /root/autodl-tmp/env/lib/python3.12/site-packages (from torch==2.5.1->-r requirements.txt (line 7)) (12.4.127)\n",
      "Requirement already satisfied: nvidia-cudnn-cu12==9.1.0.70 in /root/autodl-tmp/env/lib/python3.12/site-packages (from torch==2.5.1->-r requirements.txt (line 7)) (9.1.0.70)\n",
      "Requirement already satisfied: nvidia-cublas-cu12==12.4.5.8 in /root/autodl-tmp/env/lib/python3.12/site-packages (from torch==2.5.1->-r requirements.txt (line 7)) (12.4.5.8)\n",
      "Requirement already satisfied: nvidia-cufft-cu12==11.2.1.3 in /root/autodl-tmp/env/lib/python3.12/site-packages (from torch==2.5.1->-r requirements.txt (line 7)) (11.2.1.3)\n",
      "Requirement already satisfied: nvidia-curand-cu12==10.3.5.147 in /root/autodl-tmp/env/lib/python3.12/site-packages (from torch==2.5.1->-r requirements.txt (line 7)) (10.3.5.147)\n",
      "Requirement already satisfied: nvidia-cusolver-cu12==11.6.1.9 in /root/autodl-tmp/env/lib/python3.12/site-packages (from torch==2.5.1->-r requirements.txt (line 7)) (11.6.1.9)\n",
      "Requirement already satisfied: nvidia-cusparse-cu12==12.3.1.170 in /root/autodl-tmp/env/lib/python3.12/site-packages (from torch==2.5.1->-r requirements.txt (line 7)) (12.3.1.170)\n",
      "Requirement already satisfied: nvidia-nccl-cu12==2.21.5 in /root/autodl-tmp/env/lib/python3.12/site-packages (from torch==2.5.1->-r requirements.txt (line 7)) (2.21.5)\n",
      "Requirement already satisfied: nvidia-nvtx-cu12==12.4.127 in /root/autodl-tmp/env/lib/python3.12/site-packages (from torch==2.5.1->-r requirements.txt (line 7)) (12.4.127)\n",
      "Requirement already satisfied: nvidia-nvjitlink-cu12==12.4.127 in /root/autodl-tmp/env/lib/python3.12/site-packages (from torch==2.5.1->-r requirements.txt (line 7)) (12.4.127)\n",
      "Requirement already satisfied: triton==3.1.0 in /root/autodl-tmp/env/lib/python3.12/site-packages (from torch==2.5.1->-r requirements.txt (line 7)) (3.1.0)\n",
      "Requirement already satisfied: setuptools in /root/autodl-tmp/env/lib/python3.12/site-packages (from torch==2.5.1->-r requirements.txt (line 7)) (75.1.0)\n",
      "Requirement already satisfied: sympy==1.13.1 in /root/autodl-tmp/env/lib/python3.12/site-packages (from torch==2.5.1->-r requirements.txt (line 7)) (1.13.1)\n",
      "Requirement already satisfied: tokenizers<0.22,>=0.21 in /root/autodl-tmp/env/lib/python3.12/site-packages (from transformers==4.47.0->-r requirements.txt (line 9)) (0.21.0)\n",
      "Requirement already satisfied: mpmath<1.4,>=1.1.0 in /root/autodl-tmp/env/lib/python3.12/site-packages (from sympy==1.13.1->torch==2.5.1->-r requirements.txt (line 7)) (1.3.0)\n",
      "Requirement already satisfied: zipp>=3.20 in /root/autodl-tmp/env/lib/python3.12/site-packages (from importlib-metadata->diffusers==0.31.0->-r requirements.txt (line 1)) (3.21.0)\n",
      "Requirement already satisfied: MarkupSafe>=2.0 in /root/autodl-tmp/env/lib/python3.12/site-packages (from jinja2->torch==2.5.1->-r requirements.txt (line 7)) (3.0.2)\n",
      "Requirement already satisfied: charset-normalizer<4,>=2 in /root/autodl-tmp/env/lib/python3.12/site-packages (from requests->diffusers==0.31.0->-r requirements.txt (line 1)) (3.4.0)\n",
      "Requirement already satisfied: idna<4,>=2.5 in /root/autodl-tmp/env/lib/python3.12/site-packages (from requests->diffusers==0.31.0->-r requirements.txt (line 1)) (3.10)\n",
      "Requirement already satisfied: urllib3<3,>=1.21.1 in /root/autodl-tmp/env/lib/python3.12/site-packages (from requests->diffusers==0.31.0->-r requirements.txt (line 1)) (2.2.3)\n",
      "Requirement already satisfied: certifi>=2017.4.17 in /root/autodl-tmp/env/lib/python3.12/site-packages (from requests->diffusers==0.31.0->-r requirements.txt (line 1)) (2024.8.30)\n",
      "Installing collected packages: numpy\n",
      "  Attempting uninstall: numpy\n",
      "    Found existing installation: numpy 2.2.0\n",
      "    Uninstalling numpy-2.2.0:\n",
      "      Successfully uninstalled numpy-2.2.0\n",
      "Successfully installed numpy-2.2.0\n"
     ]
    },
    {
     "name": "stderr",
     "output_type": "stream",
     "text": [
      "\u001b[33mWARNING: Running pip as the 'root' user can result in broken permissions and conflicting behaviour with the system package manager, possibly rendering your system unusable.It is recommended to use a virtual environment instead: https://pip.pypa.io/warnings/venv. Use the --root-user-action option if you know what you are doing and want to suppress this warning.\u001b[0m\u001b[33m\n",
      "\u001b[0m"
     ]
    }
   ],
   "source": [
    "%%bash\n",
    "pip install -r requirements.txt"
   ]
  },
  {
   "cell_type": "markdown",
   "metadata": {},
   "source": [
    "## Configuration\n",
    "\n",
    "Create a YAML config file (e.g. config.yaml )with the following parameters:\n",
    "\n",
    "```yaml\n",
    "# general\n",
    "prompt: \"Pancakes on a plate.\" # prompt that provides in commend line will overwrite prompt in YAML file\n",
    "negative_prompt: \"\"\n",
    "size: 1             # number of particles\n",
    "pixel: (512, 512)   # width, height\n",
    "num_steps: 2500     # Number of epochs\n",
    "guidance_scale: 7.5 # Classifier Free Guidance sacle\n",
    "lr: 3e-2            # Learning rate of particles\n",
    "seed: 42            \n",
    "time_weight: \"sqrt_minus_cumprod\" # | minus_cumprod | minus | cumprod | sqrt_minus_cumprod | sqrt_cumprod | \n",
    "work_dir: \"Output/\" # Output directory\n",
    "\n",
    "#lora params\n",
    "unet_phi: lora\n",
    "lora_rank: 32\n",
    "lora_alpha: 256\n",
    "phi_lr: 1e-4\n",
    "\n",
    "#pretrain_model\n",
    "pretrain_model_id:  \"CompVis/stable-diffusion-v1-4\"\n",
    "# pretrain_model_path: \"***/CompVis/stable-diffusion-v1-4/\"\n",
    "# local path is of high priority\n",
    "```\n",
    "\n",
    "## Usage\n",
    "\n",
    "### Basic Usage\n"
   ]
  },
  {
   "cell_type": "code",
   "execution_count": 4,
   "metadata": {},
   "outputs": [
    {
     "name": "stdout",
     "output_type": "stream",
     "text": [
      "[INFO] Load config.yaml: \n",
      " {'prompt': 'Pancakes on a plate.', 'negative_prompt': '', 'size': 1, 'pixel': (512, 512), 'num_steps': 2500, 'guidance_scale': 7.5, 'lr': 0.03, 'seed': 42, 'time_weight': 'sqrt_minus_cumprod', 'work_dir': 'Pancakes100/', 'unet_phi': 'lora', 'lora_rank': 32, 'lora_alpha': 256, 'phi_lr': 0.0001, 'pretrain_model_id': 'CompVis/stable-diffusion-v1-4', 'pretrain_model_path': '~/autodl-tmp/CompVis/stable-diffusion-v1-4/'}!\n",
      "Current iteration: 0\n",
      "[INFO] Seed 42 detected!\n",
      "[INFO] Device cuda detected!\n",
      "[INFO] loading CompVis/stable-diffusion-v1-4...\n",
      "Start memory: 3.67GB\n",
      "[INFO] Metrics saved to: Pancakes100/vsd_42_metrics.json\n"
     ]
    },
    {
     "name": "stderr",
     "output_type": "stream",
     "text": [
      "Task exception was never retrieved\n",
      "future: <Task finished name='Task-20' coro=<ScriptMagics.shebang.<locals>._handle_stream() done, defined at /root/autodl-tmp/env/lib/python3.12/site-packages/IPython/core/magics/script.py:211> exception=ValueError('Separator is not found, and chunk exceed the limit')>\n",
      "Traceback (most recent call last):\n",
      "  File \"/root/autodl-tmp/env/lib/python3.12/asyncio/streams.py\", line 568, in readline\n",
      "    line = await self.readuntil(sep)\n",
      "           ^^^^^^^^^^^^^^^^^^^^^^^^^\n",
      "  File \"/root/autodl-tmp/env/lib/python3.12/asyncio/streams.py\", line 646, in readuntil\n",
      "    raise exceptions.LimitOverrunError(\n",
      "asyncio.exceptions.LimitOverrunError: Separator is not found, and chunk exceed the limit\n",
      "\n",
      "During handling of the above exception, another exception occurred:\n",
      "\n",
      "Traceback (most recent call last):\n",
      "  File \"/root/autodl-tmp/env/lib/python3.12/site-packages/IPython/core/magics/script.py\", line 213, in _handle_stream\n",
      "    line = (await stream.readline()).decode(\"utf8\", errors=\"replace\")\n",
      "            ^^^^^^^^^^^^^^^^^^^^^^^\n",
      "  File \"/root/autodl-tmp/env/lib/python3.12/asyncio/streams.py\", line 577, in readline\n",
      "    raise ValueError(e.args[0])\n",
      "ValueError: Separator is not found, and chunk exceed the limit\n"
     ]
    }
   ],
   "source": [
    "%%bash\n",
    "python main.py --config config.yaml"
   ]
  },
  {
   "cell_type": "markdown",
   "metadata": {},
   "source": [
    "\n",
    "### Custom Prompt"
   ]
  },
  {
   "cell_type": "code",
   "execution_count": null,
   "metadata": {},
   "outputs": [],
   "source": [
    "%%bash\n",
    "python main.py --config config.yaml --prompt \"your custom prompt\" --method \"all\""
   ]
  },
  {
   "cell_type": "markdown",
   "metadata": {},
   "source": [
    "### Calculate FID score"
   ]
  },
  {
   "cell_type": "code",
   "execution_count": 8,
   "metadata": {},
   "outputs": [
    {
     "name": "stdout",
     "output_type": "stream",
     "text": [
      "compute FID between two folders\n",
      "Found 128 images in the folder validation/output/pre\n"
     ]
    },
    {
     "name": "stderr",
     "output_type": "stream",
     "text": [
      "FID pre : 100%|██████████| 4/4 [00:03<00:00,  1.23it/s]\n"
     ]
    },
    {
     "name": "stdout",
     "output_type": "stream",
     "text": [
      "Found 127 images in the folder validation/output/vsd\n"
     ]
    },
    {
     "name": "stderr",
     "output_type": "stream",
     "text": [
      "FID vsd : 100%|██████████| 4/4 [00:01<00:00,  3.97it/s]\n"
     ]
    },
    {
     "name": "stdout",
     "output_type": "stream",
     "text": [
      "172.1228181103921\n"
     ]
    }
   ],
   "source": [
    "from cleanfid import fid\n",
    "\n",
    "print(fid.compute_fid(\"validation/output/pre\", \"validation/output/vsd\"))"
   ]
  },
  {
   "cell_type": "markdown",
   "metadata": {},
   "source": [
    "## Output Structure\n",
    "\n",
    "The script generates images in three directories under the specified `work_dir`:\n",
    "\n",
    "- `pre/`: Images generated using pretrained model (Stable-Diffusion).\n",
    "- `sds/`: Images generated using SDS sampling\n",
    "- `vsd/`: Images generated using VSD sampling\n",
    "\n",
    "Images are saved with numerical indices (e.g., `0000.png`, `0001.png`).\n",
    "\n",
    "## Command Line Arguments\n",
    "\n",
    "- `--config`: Path to the configuration YAML file. (required, default=\n",
    "- `--method`: Selected sampling method, one of ['all', 'pretrain', 'sds', 'vsd']. (optional, default='vsd') 'config.yaml')\n",
    "- `--prompt`: Override the prompt in YAML file. (optional, default=None)\n",
    "- `--iter`:   Number of current process for multiple runs. (not required)\n",
    "\n",
    "## Notes\n",
    "\n",
    "1. For generating 4 particles of pixel sizes = (512, 512), the peak memory usage is about 6GB. The average training time is around 15 mins. (not yet optimized, quite inefficient)\n",
    "2. The script automatically uses CUDA if available, otherwise falls back to CPU.\n",
    "3. Images are generated in latent space and then decoded to pixel space.\n",
    "4. The seed is automatically adjusted for different processes identified by \"--iter\" to ensure variety.\n",
    "\n",
    "## Reference Implementation\n",
    "\n",
    "<a id=\"1\">[1]</a>  Zhengyi Wang, Cheng Lu, Yikai Wang, et al. (2023). [Prolific Dreamer](https://github.com/thu-ml/prolificdreamer)\n",
    "\n",
    "<a id=\"1\">[2]</a>  Yuanzhi Zhu, (2023). [unofficial implementation of 2D prolific_dreamer](https://github.com/yuanzhi-zhu/prolific_dreamer2d)\n",
    "\n",
    "<a id=\"1\">[3]</a>  Justin Wu, (2023). [DreamFusionAcc](https://github.com/chinhsuanwu/dreamfusionacc/tree/master)"
   ]
  }
 ],
 "metadata": {
  "kernelspec": {
   "display_name": "Python 3",
   "language": "python",
   "name": "python3"
  },
  "language_info": {
   "codemirror_mode": {
    "name": "ipython",
    "version": 3
   },
   "file_extension": ".py",
   "mimetype": "text/x-python",
   "name": "python",
   "nbconvert_exporter": "python",
   "pygments_lexer": "ipython3",
   "version": "3.12.7"
  }
 },
 "nbformat": 4,
 "nbformat_minor": 2
}
