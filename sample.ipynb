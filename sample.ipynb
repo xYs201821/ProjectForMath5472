{
 "cells": [
  {
   "cell_type": "markdown",
   "metadata": {},
   "source": [
    "# Project For MATH 5472\n",
    "\n",
    "This repository maintains an elementary implementation of my course project for MATH5472: [2D experiments for VSD and SDS methods](report.pdf). \n",
    "\n",
    "## Requirement"
   ]
  },
  {
   "cell_type": "code",
   "execution_count": null,
   "metadata": {},
   "outputs": [],
   "source": [
    "%%bash\n",
    "pip install -r requirements.txt"
   ]
  },
  {
   "cell_type": "markdown",
   "metadata": {},
   "source": [
    "## Configuration\n",
    "\n",
    "Create a YAML config file (e.g. config.yaml )with the following parameters:\n",
    "\n",
    "```yaml\n",
    "# general\n",
    "prompt: \"Pancakes on a plate.\" # prompt that provides in commend line will overwrite prompt in YAML file\n",
    "negative_prompt: \"\"\n",
    "size: 1             # number of particles\n",
    "pixel: (512, 512)   # width, height\n",
    "num_steps: 2500     # Number of epochs\n",
    "guidance_scale: 7.5 # Classifier Free Guidance sacle\n",
    "lr: 3e-2            # Learning rate of particles\n",
    "seed: 42            \n",
    "time_weight: \"sqrt_minus_cumprod\" # | minus_cumprod | minus | cumprod | sqrt_minus_cumprod | sqrt_cumprod | \n",
    "work_dir: \"Output/\" # Output directory\n",
    "\n",
    "#lora params\n",
    "unet_phi: lora\n",
    "lora_rank: 32\n",
    "lora_alpha: 256\n",
    "phi_lr: 1e-4\n",
    "\n",
    "#pretrain_model\n",
    "pretrain_model_id:  \"CompVis/stable-diffusion-v1-4\"\n",
    "# pretrain_model_path: \"***/CompVis/stable-diffusion-v1-4/\"\n",
    "# local path is of high priority\n",
    "```\n",
    "\n",
    "## Usage\n",
    "\n",
    "### Basic Usage\n"
   ]
  },
  {
   "cell_type": "code",
   "execution_count": null,
   "metadata": {},
   "outputs": [],
   "source": [
    "%%bash\n",
    "python main.py --config config.yaml"
   ]
  },
  {
   "cell_type": "markdown",
   "metadata": {},
   "source": [
    "\n",
    "### Custom Prompt"
   ]
  },
  {
   "cell_type": "code",
   "execution_count": null,
   "metadata": {},
   "outputs": [],
   "source": [
    "%%bash\n",
    "python main.py --config config.yaml --prompt \"your custom prompt\" --method \"all\""
   ]
  },
  {
   "cell_type": "markdown",
   "metadata": {},
   "source": [
    "### Calculate FID score"
   ]
  },
  {
   "cell_type": "code",
   "execution_count": null,
   "metadata": {},
   "outputs": [],
   "source": [
    "from cleanfid import fid\n",
    "\n",
    "print(fid.compute_fid(\"validation/output/pre\", \"validation/output/vsd\"))"
   ]
  },
  {
   "cell_type": "markdown",
   "metadata": {},
   "source": [
    "## Output Structure\n",
    "\n",
    "The script generates images in three directories under the specified `work_dir`:\n",
    "\n",
    "- `pre/`: Images generated using pretrained model (Stable-Diffusion).\n",
    "- `sds/`: Images generated using SDS sampling\n",
    "- `vsd/`: Images generated using VSD sampling\n",
    "\n",
    "Images are saved with numerical indices (e.g., `0000.png`, `0001.png`).\n",
    "\n",
    "## Command Line Arguments\n",
    "\n",
    "- `--config`: Path to the configuration YAML file. (required, default=\n",
    "- `--method`: Selected sampling method, one of ['all', 'pretrain', 'sds', 'vsd']. (optional, default='vsd') 'config.yaml')\n",
    "- `--prompt`: Override the prompt in YAML file. (optional, default=None)\n",
    "- `--iter`:   Number of current process for multiple runs. (not required)\n",
    "\n",
    "## Notes\n",
    "\n",
    "1. For generating 4 particles of pixel sizes = (512, 512), the peak memory usage is about 6GB. The average training time is around 15 mins. (not yet optimized, quite inefficient)\n",
    "2. The script automatically uses CUDA if available, otherwise falls back to CPU.\n",
    "3. Images are generated in latent space and then decoded to pixel space.\n",
    "4. The seed is automatically adjusted for different processes identified by \"--iter\" to ensure variety.\n",
    "\n",
    "## Reference Implementation\n",
    "\n",
    "<a id=\"1\">[1]</a>  Zhengyi Wang, Cheng Lu, Yikai Wang, et al. (2023). [Prolific Dreamer](https://github.com/thu-ml/prolificdreamer)\n",
    "\n",
    "<a id=\"1\">[2]</a>  Yuanzhi Zhu, (2023). [unofficial implementation of 2D prolific_dreamer](https://github.com/yuanzhi-zhu/prolific_dreamer2d)\n",
    "\n",
    "<a id=\"1\">[3]</a>  Justin Wu, (2023). [DreamFusionAcc](https://github.com/chinhsuanwu/dreamfusionacc/tree/master)"
   ]
  }
 ],
 "metadata": {
  "kernelspec": {
   "display_name": "Python 3",
   "language": "python",
   "name": "python3"
  },
  "language_info": {
   "codemirror_mode": {
    "name": "ipython",
    "version": 3
   },
   "file_extension": ".py",
   "mimetype": "text/x-python",
   "name": "python",
   "nbconvert_exporter": "python",
   "pygments_lexer": "ipython3",
   "version": "3.12.7"
  }
 },
 "nbformat": 4,
 "nbformat_minor": 2
}
